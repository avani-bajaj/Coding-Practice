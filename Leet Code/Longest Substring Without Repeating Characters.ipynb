{
 "cells": [
  {
   "cell_type": "markdown",
   "metadata": {},
   "source": [
    "https://leetcode.com/problems/longest-substring-without-repeating-characters/\n",
    "\n",
    "Given a string s, find the length of the longest substring without repeating characters."
   ]
  },
  {
   "cell_type": "code",
   "execution_count": null,
   "metadata": {},
   "outputs": [],
   "source": [
    "class Solution:\n",
    "    def lengthOfLongestSubstring(self, s: str) -> int:\n",
    "        t=str()\n",
    "        #print('t : ' + t)\n",
    "        lenght=0\n",
    "        #print('length : ' + str(lenght))\n",
    "        for digit in s:\n",
    "            #print(' loop digit : ' + str(digit))\n",
    "            #print('t : ' + t)\n",
    "            if digit in t:\n",
    "                #print('digit in t : ' + digit)\n",
    "                \n",
    "                t+=digit\n",
    "                t = t.split(digit,1)[-1]\n",
    "                if t =='':\n",
    "                    t+=digit\n",
    "                #print('t : ' + t)\n",
    "            else:\n",
    "                t+=digit\n",
    "                lenght = max(len(t),lenght)\n",
    "                #print('t : ' + t)\n",
    "        #print('length : ' + str(lenght))\n",
    "        try:\n",
    "            return(lenght)\n",
    "        except:\n",
    "            return 0"
   ]
  }
 ],
 "metadata": {
  "kernelspec": {
   "display_name": "Python 3",
   "language": "python",
   "name": "python3"
  },
  "language_info": {
   "codemirror_mode": {
    "name": "ipython",
    "version": 3
   },
   "file_extension": ".py",
   "mimetype": "text/x-python",
   "name": "python",
   "nbconvert_exporter": "python",
   "pygments_lexer": "ipython3",
   "version": "3.7.4"
  }
 },
 "nbformat": 4,
 "nbformat_minor": 2
}
