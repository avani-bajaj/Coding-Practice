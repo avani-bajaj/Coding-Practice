{
 "cells": [
  {
   "cell_type": "markdown",
   "metadata": {
    "ExecuteTime": {
     "end_time": "2021-02-16T02:34:03.555074Z",
     "start_time": "2021-02-16T02:34:03.532394Z"
    }
   },
   "source": [
    "https://leetcode.com/problems/zigzag-conversion/\n",
    "    \n",
    "The string \"PAYPALISHIRING\" is written in a zigzag pattern on a given number of rows like this: (you may want to display this pattern in a fixed font for better legibility)\n",
    "\n",
    "P   A   H   N\n",
    "\n",
    "A P L S I I G\n",
    "\n",
    "Y   I   R\n",
    "And then read line by line: \"PAHNAPLSIIGYIR\"\n",
    "\n",
    "Write the code that will take a string and make this conversion given a number of rows:\n",
    "\n",
    "string convert(string s, int numRows);\n",
    "\n"
   ]
  },
  {
   "cell_type": "code",
   "execution_count": null,
   "metadata": {},
   "outputs": [],
   "source": [
    "class Solution:\n",
    "    def convert(self, s: str, numRows: int) -> str:\n",
    "        num = (2*numRows)-2\n",
    "#        print(len(s) , num)\n",
    "        output_dict = {}\n",
    "        if num==0:\n",
    "            return s    \n",
    "    \n",
    "        for i in range(len(s)):\n",
    "            temp1 = i%num \n",
    "#            print(i , temp1, s[i])\n",
    "            if temp1<numRows : \n",
    "                if i<numRows:\n",
    "                    output_dict[temp1] = s[i]\n",
    "                else: \n",
    "                    output_dict[temp1] = output_dict[temp1]+s[i]\n",
    "                \n",
    "            if temp1>=numRows:\n",
    "                val = numRows-(2+(temp1%numRows))\n",
    "                \n",
    "                output_dict[val] = output_dict[val]+s[i]\n",
    "#                print(val,output_dict[val] )\n",
    "#            print(output_dict)\n",
    "#        print(''.join(output_dict.values()))\n",
    "        return ''.join(output_dict.values())"
   ]
  }
 ],
 "metadata": {
  "kernelspec": {
   "display_name": "Python 3",
   "language": "python",
   "name": "python3"
  },
  "language_info": {
   "codemirror_mode": {
    "name": "ipython",
    "version": 3
   },
   "file_extension": ".py",
   "mimetype": "text/x-python",
   "name": "python",
   "nbconvert_exporter": "python",
   "pygments_lexer": "ipython3",
   "version": "3.7.4"
  }
 },
 "nbformat": 4,
 "nbformat_minor": 2
}
