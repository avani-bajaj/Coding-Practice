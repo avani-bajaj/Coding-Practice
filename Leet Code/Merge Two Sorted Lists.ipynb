{
 "cells": [
  {
   "cell_type": "markdown",
   "metadata": {},
   "source": [
    "https://leetcode.com/problems/merge-two-sorted-lists/\n",
    "\n",
    "\n",
    "Merge two sorted linked lists and return it as a sorted list. The list should be made by splicing together the nodes of the first two lists."
   ]
  },
  {
   "cell_type": "code",
   "execution_count": null,
   "metadata": {},
   "outputs": [],
   "source": [
    "# Definition for singly-linked list.\n",
    "# class ListNode:\n",
    "#     def __init__(self, val=0, next=None):\n",
    "#         self.val = val\n",
    "#         self.next = next\n",
    "class Solution:\n",
    "    def mergeTwoLists(self, l1: ListNode, l2: ListNode) -> ListNode:\n",
    "        #if one of the linked list is empty, return the other one.\n",
    "        if(l1==None):\n",
    "            return l2\n",
    "        elif(l2==None):\n",
    "            return l1\n",
    "        \n",
    "\t\t# append l2 at the end of l1\n",
    "        pA=l1\n",
    "        while(pA.next!=None):\n",
    "            pA=pA.next\n",
    "        pA.next=l2\n",
    "        \n",
    "\t\t# Store values of all nodes in a list and sort it.\n",
    "        pA=l1\n",
    "        vals=[]\n",
    "        while(pA!=None):\n",
    "            vals.append(pA.val)\n",
    "            pA=pA.next\n",
    "        vals.sort()\n",
    "        \n",
    "\t\t# Create a new linked list with the new values in the sorted list\n",
    "        l1=[ListNode(vals[0])]\n",
    "        for i in range(1,len(vals)):\n",
    "            l1.append(ListNode(vals[i]))\n",
    "            l1[i-1].next=l1[i]\n",
    "        \n",
    "        return(l1[0])\n",
    "            "
   ]
  }
 ],
 "metadata": {
  "kernelspec": {
   "display_name": "Python 3",
   "language": "python",
   "name": "python3"
  },
  "language_info": {
   "codemirror_mode": {
    "name": "ipython",
    "version": 3
   },
   "file_extension": ".py",
   "mimetype": "text/x-python",
   "name": "python",
   "nbconvert_exporter": "python",
   "pygments_lexer": "ipython3",
   "version": "3.7.4"
  }
 },
 "nbformat": 4,
 "nbformat_minor": 2
}
