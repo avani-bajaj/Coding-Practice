{
 "cells": [
  {
   "cell_type": "markdown",
   "metadata": {},
   "source": [
    "https://leetcode.com/problems/product-of-array-except-self/\n",
    "\n",
    "Given an array nums of n integers where n > 1,  return an array output such that output[i] is equal to the product of all the elements of nums except nums[i]."
   ]
  },
  {
   "cell_type": "code",
   "execution_count": null,
   "metadata": {},
   "outputs": [],
   "source": [
    "class Solution:\n",
    "    def productExceptSelf(self, nums: List[int]) -> List[int]:\n",
    "        import numpy as np\n",
    "\n",
    "        left_to_right = [1]*len(nums)\n",
    "        right_to_left = [1]*len(nums)\n",
    "        print(nums,left_to_right, right_to_left)\n",
    "        for i in range(1,len(nums)):\n",
    "            left_to_right[i] =  left_to_right[i-1]*nums[i-1]\n",
    "            right_to_left[len(nums)-(i+1)] = right_to_left[(len(nums)-i) ]*nums[(len(nums)-i) ]\n",
    "\n",
    "        return np.multiply(left_to_right,right_to_left)\n",
    "                \n",
    "                \n",
    "\n",
    "\n",
    "        "
   ]
  }
 ],
 "metadata": {
  "kernelspec": {
   "display_name": "Python 3",
   "language": "python",
   "name": "python3"
  },
  "language_info": {
   "codemirror_mode": {
    "name": "ipython",
    "version": 3
   },
   "file_extension": ".py",
   "mimetype": "text/x-python",
   "name": "python",
   "nbconvert_exporter": "python",
   "pygments_lexer": "ipython3",
   "version": "3.7.4"
  }
 },
 "nbformat": 4,
 "nbformat_minor": 2
}
