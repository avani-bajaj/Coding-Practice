{
 "cells": [
  {
   "cell_type": "markdown",
   "metadata": {},
   "source": [
    "https://leetcode.com/problems/divide-two-integers/\n",
    "    \n",
    "Given two integers dividend and divisor, divide two integers without using multiplication, division, and mod operator.\n",
    "\n",
    "Return the quotient after dividing dividend by divisor.\n",
    "\n",
    "The integer division should truncate toward zero, which means losing its fractional part. For example, truncate(8.345) = 8 and truncate(-2.7335) = -2.\n",
    "\n",
    "Note:\n",
    "\n",
    "Assume we are dealing with an environment that could only store integers within the 32-bit signed integer range: [−231,  231 − 1]. For this problem, assume that your function returns 231 − 1 when the division result overflows."
   ]
  },
  {
   "cell_type": "code",
   "execution_count": null,
   "metadata": {},
   "outputs": [],
   "source": [
    "class Solution:\n",
    "    def divide(self, dividend: int, divisor: int) -> int:\n",
    "        neg_limit= -0x80000000         \n",
    "        pos_limit= 0x7fffffff        \n",
    "        \n",
    "        result = len(range(abs(divisor), abs(dividend)+1, abs(divisor))) \n",
    "        print(range(abs(divisor), abs(dividend)+1, abs(divisor)))\n",
    "        if (dividend > 0 and divisor < 0) or (dividend < 0 and divisor > 0):\n",
    "            result = -result\n",
    "            \n",
    "        if (result > 0) and (result > pos_limit):\n",
    "            return pos_limit\n",
    "        elif (result < 0) and (result < neg_limit):\n",
    "            return neg_limit\n",
    "        else:\n",
    "            return result\n",
    "\n"
   ]
  }
 ],
 "metadata": {
  "kernelspec": {
   "display_name": "Python 3",
   "language": "python",
   "name": "python3"
  },
  "language_info": {
   "codemirror_mode": {
    "name": "ipython",
    "version": 3
   },
   "file_extension": ".py",
   "mimetype": "text/x-python",
   "name": "python",
   "nbconvert_exporter": "python",
   "pygments_lexer": "ipython3",
   "version": "3.7.4"
  }
 },
 "nbformat": 4,
 "nbformat_minor": 2
}
