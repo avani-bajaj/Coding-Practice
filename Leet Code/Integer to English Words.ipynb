{
 "cells": [
  {
   "cell_type": "markdown",
   "metadata": {},
   "source": [
    "https://leetcode.com/problems/integer-to-english-words/\n",
    "\n",
    "Convert a non-negative integer num to its English words representation.\n",
    "\n",
    " "
   ]
  },
  {
   "cell_type": "code",
   "execution_count": null,
   "metadata": {},
   "outputs": [],
   "source": [
    "class Solution:\n",
    "    def numberToWords(self, num: int) -> str:\n",
    "        units = [\"\", \"One\", \"Two\", \"Three\", \"Four\", \"Five\", \"Six\", \"Seven\", \"Eight\", \"Nine\"]\n",
    "        teens = [\"Ten\", \"Eleven\", \"Twelve\", \"Thirteen\", \"Fourteen\", \"Fifteen\", \"Sixteen\", \"Seventeen\", \"Eighteen\", \"Nineteen\"]\n",
    "        tens = [\"\", \"\", \"Twenty\", \"Thirty\", \"Forty\", \"Fifty\", \"Sixty\", \"Seventy\", \"Eighty\", \"Ninety\"]\n",
    "        \n",
    "        def f(number):\n",
    "            string = \"\"\n",
    "            if number // 10**9:\n",
    "                string += f(number // 10**9)+\" Billion \"+f(number % 10**9)\n",
    "            elif number // 10**6:\n",
    "                string += f(number // 10**6)+\" Million \"+f(number % 10**6)\n",
    "            elif number // 10**3:\n",
    "                string += f(number // 10**3)+\" Thousand \"+f(number % 10**3)\n",
    "            elif number // 100:\n",
    "                string += f(number // 100)+\" Hundred \"+f(number % 100)\n",
    "            elif number // 10:\n",
    "                if number >= 10 and number <= 19:\n",
    "                    string += teens[number % 10]\n",
    "                else:\n",
    "                    string += tens[number // 10] +\" \" + f(number % 10)\n",
    "            else:\n",
    "                string += units[number % 10]\n",
    "            return string.strip()\n",
    "\n",
    "        if not num:\n",
    "            return \"Zero\"\n",
    "\n",
    "        return (f(num)).strip()\n",
    "\n",
    "\n",
    "\n"
   ]
  }
 ],
 "metadata": {
  "kernelspec": {
   "display_name": "Python 3",
   "language": "python",
   "name": "python3"
  },
  "language_info": {
   "codemirror_mode": {
    "name": "ipython",
    "version": 3
   },
   "file_extension": ".py",
   "mimetype": "text/x-python",
   "name": "python",
   "nbconvert_exporter": "python",
   "pygments_lexer": "ipython3",
   "version": "3.7.4"
  }
 },
 "nbformat": 4,
 "nbformat_minor": 2
}
