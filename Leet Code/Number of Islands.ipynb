{
 "cells": [
  {
   "cell_type": "markdown",
   "metadata": {},
   "source": [
    "https://leetcode.com/problems/number-of-islands/\n",
    "\n",
    "Given an m x n 2d grid map of '1's (land) and '0's (water), return the number of islands.\n",
    "\n",
    "An island is surrounded by water and is formed by connecting adjacent lands horizontally or vertically. You may assume all four edges of the grid are all surrounded by water.\n",
    "\n",
    " "
   ]
  },
  {
   "cell_type": "code",
   "execution_count": null,
   "metadata": {},
   "outputs": [],
   "source": [
    "class Solution:\n",
    "    def numIslands(self, grid: List[List[str]]) -> int:\n",
    "        if not grid or not grid[0]:\n",
    "            return 0        \n",
    "        islands = 0\n",
    "        q = collections.deque()\n",
    "        visit = set()\n",
    "        rows, cols = len(grid), len(grid[0])\n",
    "        \n",
    "        def dfs(r, c):\n",
    "            if (r not in range(rows) or\n",
    "                c not in range(cols) or\n",
    "                grid[r][c] == \"0\" or\n",
    "                (r, c) in visit):\n",
    "                return\n",
    "            \n",
    "            visit.add((r, c))\n",
    "            directions = [[0, 1], [0, -1], [1, 0], [-1, 0]]\n",
    "            for dr, dc in directions:\n",
    "                dfs(r + dr, c + dc)\n",
    "        \n",
    "        for r in range(rows):\n",
    "            for c in range(cols):\n",
    "                if grid[r][c] == \"1\" and (r, c) not in visit:\n",
    "                    islands += 1\n",
    "                    dfs(r, c)\n",
    "        return islands\n",
    "    \n",
    "        "
   ]
  }
 ],
 "metadata": {
  "kernelspec": {
   "display_name": "Python 3",
   "language": "python",
   "name": "python3"
  },
  "language_info": {
   "codemirror_mode": {
    "name": "ipython",
    "version": 3
   },
   "file_extension": ".py",
   "mimetype": "text/x-python",
   "name": "python",
   "nbconvert_exporter": "python",
   "pygments_lexer": "ipython3",
   "version": "3.7.4"
  }
 },
 "nbformat": 4,
 "nbformat_minor": 2
}
