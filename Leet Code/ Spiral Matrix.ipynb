{
 "cells": [
  {
   "cell_type": "markdown",
   "metadata": {},
   "source": [
    "https://leetcode.com/problems/spiral-matrix/\n",
    "\n",
    "Given an m x n matrix, return all elements of the matrix in spiral order.\n"
   ]
  },
  {
   "cell_type": "code",
   "execution_count": null,
   "metadata": {},
   "outputs": [],
   "source": [
    "class Solution:\n",
    "    directions = [[0, 1], [1, 0], [0, -1], [-1, 0]]\n",
    "    dirc = 0\n",
    "    visited = []\n",
    "    x = y = 0\n",
    "    matrix = None\n",
    "    \n",
    "    def spiralOrder(self, matrix: List[List[int]]) -> List[int]:\n",
    "        self.matrix = matrix\n",
    "        self.visited = []\n",
    "        self.x = self.y = 0\n",
    "        self.dirc = 0\n",
    "\n",
    "        re = []\n",
    "        \n",
    "        while True:\n",
    "            if self.is_valid(self.x, self.y):\n",
    "                re.append(matrix[self.x][self.y])\n",
    "                self.visited.append([self.x, self.y])\n",
    "            else:\n",
    "                return re\n",
    "            \n",
    "            if self.finished(self.x, self.y):\n",
    "                return re\n",
    "            \n",
    "            \"\"\"if not finished, try next point\"\"\"\n",
    "            next_x = self.x + self.directions[self.dirc][0]\n",
    "            next_y = self.y + self.directions[self.dirc][1]\n",
    "            if self.is_valid(next_x, next_y):\n",
    "                self.x = self.x + self.directions[self.dirc][0]\n",
    "                self.y = self.y + self.directions[self.dirc][1]\n",
    "            else:\n",
    "                self.change_direc()\n",
    "                self.x = self.x + self.directions[self.dirc][0]\n",
    "                self.y = self.y + self.directions[self.dirc][1]\n",
    "\n",
    "    def finished(self, x, y):\n",
    "        return all([\n",
    "            [x, y+1] in self.visited,\n",
    "            [x+1, y] in self.visited,\n",
    "            [x-1, y] in self.visited,\n",
    "            [x, y-1] in self.visited\n",
    "        ])\n",
    "    \n",
    "    def change_direc(self):\n",
    "        self.dirc = self.dirc + 1 if self.dirc <= 2 else 0\n",
    "    \n",
    "    def is_valid(self, x, y):\n",
    "        return 0 <= x < len(self.matrix) and 0 <= y < len(self.matrix[0]) and [x, y] not in self.visited    "
   ]
  }
 ],
 "metadata": {
  "kernelspec": {
   "display_name": "Python 3",
   "language": "python",
   "name": "python3"
  },
  "language_info": {
   "codemirror_mode": {
    "name": "ipython",
    "version": 3
   },
   "file_extension": ".py",
   "mimetype": "text/x-python",
   "name": "python",
   "nbconvert_exporter": "python",
   "pygments_lexer": "ipython3",
   "version": "3.7.4"
  }
 },
 "nbformat": 4,
 "nbformat_minor": 2
}
