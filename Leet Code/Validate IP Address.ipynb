{
 "cells": [
  {
   "cell_type": "markdown",
   "metadata": {},
   "source": [
    "https://leetcode.com/problems/validate-ip-address/\n",
    "\n",
    "Given a string IP, return \"IPv4\" if IP is a valid IPv4 address, \"IPv6\" if IP is a valid IPv6 address or \"Neither\" if IP is not a correct IP of any type.\n",
    "\n",
    "A valid IPv4 address is an IP in the form \"x1.x2.x3.x4\" where 0 <= xi <= 255 and xi cannot contain leading zeros. For example, \"192.168.1.1\" and \"192.168.1.0\" are valid IPv4 addresses but \"192.168.01.1\", while \"192.168.1.00\" and \"192.168@1.1\" are invalid IPv4 addresses.\n",
    "\n",
    "A valid IPv6 address is an IP in the form \"x1:x2:x3:x4:x5:x6:x7:x8\" where:\n",
    "\n",
    "1 <= xi.length <= 4\n",
    "xi is a hexadecimal string which may contain digits, lower-case English letter ('a' to 'f') and upper-case English letters ('A' to 'F').\n",
    "Leading zeros are allowed in xi.\n",
    "For example, \"2001:0db8:85a3:0000:0000:8a2e:0370:7334\" and \"2001:db8:85a3:0:0:8A2E:0370:7334\" are valid IPv6 addresses, while \"2001:0db8:85a3::8A2E:037j:7334\" and \"02001:0db8:85a3:0000:0000:8a2e:0370:7334\" are invalid IPv6 addresses.\n",
    "\n"
   ]
  },
  {
   "cell_type": "code",
   "execution_count": 1,
   "metadata": {
    "ExecuteTime": {
     "end_time": "2021-02-16T02:57:15.166127Z",
     "start_time": "2021-02-16T02:57:15.144196Z"
    }
   },
   "outputs": [],
   "source": [
    "class Solution:\n",
    "    def validIPAddress(self, IP: str) -> str:\n",
    "\n",
    "        try:\n",
    "        \n",
    "            if len(IP.split('.'))==4 : \n",
    "                a = IP.split('.')\n",
    "                res =1 \n",
    "                res = all(int(ele) <=255  and int(ele)>=0  and ele == str(int(ele))  for ele in a) \n",
    "                if res == True :\n",
    "                    return 'IPv4'\n",
    "        \n",
    "        \n",
    "            if len(IP.split(':')) == 8:\n",
    "                print('B')\n",
    "                a = IP.split(':')\n",
    "                print(a)\n",
    "                res = all(len(str(ele)) <=4  and len(str(ele)) >= 1 for ele in a)\n",
    "                print(res)\n",
    "                hex = all(int(ele, 16) for ele in a) \n",
    "                \n",
    "                if res == True  :\n",
    "                    return 'IPv6'\n",
    "\n",
    "        except ValueError:\n",
    "            return \"Neither\"\n",
    "        return \"Neither\"\n",
    "        \n",
    "        "
   ]
  },
  {
   "cell_type": "code",
   "execution_count": null,
   "metadata": {},
   "outputs": [],
   "source": []
  }
 ],
 "metadata": {
  "kernelspec": {
   "display_name": "Python 3",
   "language": "python",
   "name": "python3"
  },
  "language_info": {
   "codemirror_mode": {
    "name": "ipython",
    "version": 3
   },
   "file_extension": ".py",
   "mimetype": "text/x-python",
   "name": "python",
   "nbconvert_exporter": "python",
   "pygments_lexer": "ipython3",
   "version": "3.7.4"
  }
 },
 "nbformat": 4,
 "nbformat_minor": 2
}
